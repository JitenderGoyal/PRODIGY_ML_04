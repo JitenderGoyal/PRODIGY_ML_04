{
 "cells": [
  {
   "cell_type": "code",
   "execution_count": 1,
   "id": "f46b01f8",
   "metadata": {},
   "outputs": [],
   "source": [
    "import os\n",
    "import shutil"
   ]
  },
  {
   "cell_type": "markdown",
   "id": "e1520041",
   "metadata": {},
   "source": [
    "### Define a list of new folder names"
   ]
  },
  {
   "cell_type": "code",
   "execution_count": 2,
   "id": "9a9ed83e",
   "metadata": {},
   "outputs": [],
   "source": [
    "new_folder = ['01_palm', '02_l', '03_fist', '04_fist_moved',\n",
    "              '05_thumb', '06_index', '07_ok', '08_palm_moved', '09_c', '10_down']"
   ]
  },
  {
   "cell_type": "code",
   "execution_count": 3,
   "id": "be45cb50",
   "metadata": {},
   "outputs": [
    {
     "name": "stdout",
     "output_type": "stream",
     "text": [
      "Folder 'Data\\01_palm' created successfully.\n",
      "Folder 'Data\\02_l' created successfully.\n",
      "Folder 'Data\\03_fist' created successfully.\n",
      "Folder 'Data\\04_fist_moved' created successfully.\n",
      "Folder 'Data\\05_thumb' created successfully.\n",
      "Folder 'Data\\06_index' created successfully.\n",
      "Folder 'Data\\07_ok' created successfully.\n",
      "Folder 'Data\\08_palm_moved' created successfully.\n",
      "Folder 'Data\\09_c' created successfully.\n",
      "Folder 'Data\\10_down' created successfully.\n"
     ]
    }
   ],
   "source": [
    "# Loop through the new folder names\n",
    "for fl in new_folder:\n",
    "    # Create the path for each new folder inside the \"Data\" directory\n",
    "    folder_path = os.path.join(\"Data\", fl)\n",
    "    \n",
    "    # Check if the folder already exists\n",
    "    if not os.path.exists(folder_path):\n",
    "        # If it doesn't exist, create the folder\n",
    "        os.makedirs(folder_path)\n",
    "        print(f\"Folder '{folder_path}' created successfully.\")\n",
    "    else:\n",
    "        # If it already exists, print a message indicating that\n",
    "        print(f\"Folder '{folder_path}' already exists.\")"
   ]
  },
  {
   "cell_type": "markdown",
   "id": "42662a01",
   "metadata": {},
   "source": [
    "### Set the main path where the source subfolders are located"
   ]
  },
  {
   "cell_type": "code",
   "execution_count": 4,
   "id": "258bea35",
   "metadata": {},
   "outputs": [
    {
     "data": {
      "text/plain": [
       "['00', '01', '02', '03', '04', '05', '06', '07', '08', '09']"
      ]
     },
     "execution_count": 4,
     "metadata": {},
     "output_type": "execute_result"
    }
   ],
   "source": [
    "main_path = \"leapGestRecog\"\n",
    "\n",
    "# List all subfolders within the main path\n",
    "ls_subfolder = os.listdir(main_path)\n",
    "ls_subfolder"
   ]
  },
  {
   "cell_type": "code",
   "execution_count": 5,
   "id": "d2be690a",
   "metadata": {},
   "outputs": [],
   "source": [
    "# Iterate through each subfolder within the main path\n",
    "for fl in ls_subfolder:\n",
    "    \n",
    "    # Create the full path to the subfolder\n",
    "    paths_ls = os.path.join(main_path, fl)\n",
    "    \n",
    "    # List the class names within the subfolder\n",
    "    cls_name = os.listdir(paths_ls)\n",
    "    \n",
    "    # Iterate through each class name\n",
    "    for clss in cls_name:\n",
    "        \n",
    "        # Create the full path to the class directory\n",
    "        paths = os.path.join(paths_ls, clss)\n",
    "        \n",
    "        # List all image files within the class directory\n",
    "        img = os.listdir(paths)\n",
    "        \n",
    "        # Create the destination path for moving the images\n",
    "        destination_path = os.path.join(\"Data\", clss)\n",
    "        \n",
    "         # Iterate through each image file in the class directory\n",
    "        for im in img:\n",
    "            \n",
    "            # Create the full path to the image file\n",
    "            img_path = os.path.join(paths, im)\n",
    "            \n",
    "            # Move the image to the corresponding destination folder\n",
    "            shutil.move(img_path,destination_path)"
   ]
  }
 ],
 "metadata": {
  "kernelspec": {
   "display_name": "Python 3 (ipykernel)",
   "language": "python",
   "name": "python3"
  },
  "language_info": {
   "codemirror_mode": {
    "name": "ipython",
    "version": 3
   },
   "file_extension": ".py",
   "mimetype": "text/x-python",
   "name": "python",
   "nbconvert_exporter": "python",
   "pygments_lexer": "ipython3",
   "version": "3.11.0"
  }
 },
 "nbformat": 4,
 "nbformat_minor": 5
}
